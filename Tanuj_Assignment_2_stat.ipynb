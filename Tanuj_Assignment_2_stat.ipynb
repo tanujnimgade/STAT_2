{
  "nbformat": 4,
  "nbformat_minor": 0,
  "metadata": {
    "colab": {
      "provenance": [],
      "collapsed_sections": []
    },
    "kernelspec": {
      "name": "python3",
      "display_name": "Python 3"
    },
    "language_info": {
      "name": "python"
    }
  },
  "cells": [
    {
      "cell_type": "code",
      "execution_count": null,
      "metadata": {
        "id": "lYkeBmVbThEq"
      },
      "outputs": [],
      "source": [
        "import pandas as pd\n",
        "import scipy.stats as stats"
      ]
    },
    {
      "cell_type": "markdown",
      "source": [
        "1) We have the potato yield from 12 different farms. We\n",
        "know that the standard potato yield for the given variety\n",
        "is µ=20. x = [21.5, 24.5, 18.5, 17.2, 14.5, 23.2, 22.1, 20.5,\n",
        "19.4, 18.1, 24.1,18.5] Test if the potato yield from these\n",
        "farms is significantly better than the standard yield (\n",
        "Use Python Code)"
      ],
      "metadata": {
        "id": "uZV-DeqaVASX"
      }
    },
    {
      "cell_type": "markdown",
      "source": [
        "Ho: The potato yield from the given farm is significantly better than the standard yield.\n",
        "H1: The potato yield from the given farm is not significantly better than the standard yield.\n"
      ],
      "metadata": {
        "id": "3clqG--wV0sd"
      }
    },
    {
      "cell_type": "code",
      "source": [
        "x = [21.5, 24.5, 18.5, 17.2, 14.5, 23.2, 22.1, 20.5, 19.4, 18.1, 24.1,18.5]\n",
        "t_stats_1,p_val_1=stats.ttest_1samp(x,popmean=20)\n",
        "print(f\"T-stats:{t_stats_1}\\nP-val:{p_val_1}\")\n",
        "if p_val_1<0.5:\n",
        " print(\"with Ho\")\n",
        "else:\n",
        " print(\"without Ho\")"
      ],
      "metadata": {
        "colab": {
          "base_uri": "https://localhost:8080/"
        },
        "id": "7xPDmAzMV3aQ",
        "outputId": "59e41ea5-17f4-4a7a-8523-923048cd5df6"
      },
      "execution_count": null,
      "outputs": [
        {
          "output_type": "stream",
          "name": "stdout",
          "text": [
            "T-stats:0.2006562773994862\n",
            "P-val:0.8446291893053613\n",
            "without Ho\n"
          ]
        }
      ]
    },
    {
      "cell_type": "code",
      "source": [
        "Since, p-value is 0.8446 which is greater than 0.5 (ie: 0.8446 > 0.5). Hence, without Ho and conclude that the\n",
        "potato yield from the given farm is significantly better than the standard yield"
      ],
      "metadata": {
        "id": "gOltK-uwWXa7"
      },
      "execution_count": null,
      "outputs": []
    },
    {
      "cell_type": "markdown",
      "source": [
        "3.Set up a hypothesis and Test whether the means of\n",
        "two independent samples given below are significantly\n",
        "different ( Use Python code) data1 = [0.873, 2.817, 0.121, -0.945, -0.055, -1.436, 0.360, -1.478, -1.637, -1.869] data2\n",
        "= [1.142, -0.432, -0.938, -0.729, -0.846, -0.157, 0.500,\n",
        "1.183,-1.075, -0.169]\n"
      ],
      "metadata": {
        "id": "n5ZgdEfhWpPK"
      }
    },
    {
      "cell_type": "markdown",
      "source": [
        "Ho: The mean of two independent samples are not different.\n",
        "\n",
        "H1: The mean of two independent samples are different"
      ],
      "metadata": {
        "id": "A71xXhX4B4tC"
      }
    },
    {
      "cell_type": "code",
      "source": [
        "data_1 = [0.873, 2.817, 0.121, -0.945, -0.055, -1.436, 0.360, -1.478, -1.637, -1.869]\n",
        "data_2 = [1.142, -0.432, -0.938, -0.729, -0.846, -0.157, 0.500, 1.183, -1.075, -0.169]\n",
        "t_stats_2,p_val_2=stats.ttest_ind(data_1,data_2)\n",
        "print(f\"T-stats:{t_stats_2}\\nP-val:{p_val_2}\")\n",
        "if p_val_2<0.5:\n",
        " print(\"with Ho\")\n",
        "else:\n",
        " print(\"without Ho\")"
      ],
      "metadata": {
        "colab": {
          "base_uri": "https://localhost:8080/"
        },
        "id": "oMPhrj50Wz0y",
        "outputId": "1a2e9b38-a78a-4895-ef33-2634dd9a0da4"
      },
      "execution_count": null,
      "outputs": [
        {
          "output_type": "stream",
          "name": "stdout",
          "text": [
            "T-stats:-0.3256156287495794\n",
            "P-val:0.7484698873615687\n",
            "without Ho\n"
          ]
        }
      ]
    },
    {
      "cell_type": "code",
      "source": [
        "Since, p-value is 0.7484 which is greater than 0.5 (ie, 0.7484> 0.5). Hence, without Ho and conclude that the\n",
        "mean of two population sample are not different."
      ],
      "metadata": {
        "id": "JzDT54V_W9i6"
      },
      "execution_count": null,
      "outputs": []
    }
  ]
}